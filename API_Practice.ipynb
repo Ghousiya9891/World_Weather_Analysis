{
 "cells": [
  {
   "cell_type": "code",
   "execution_count": 109,
   "id": "ed3fd88c",
   "metadata": {},
   "outputs": [
    {
     "data": {
      "text/plain": [
       "'2.27.1'"
      ]
     },
     "execution_count": 109,
     "metadata": {},
     "output_type": "execute_result"
    }
   ],
   "source": [
    "import requests\n",
    "import pandas as pd\n",
    "import matplotlib.pyplot as plt\n",
    "import numpy as np\n",
    "from citipy import citipy\n",
    "\n",
    "requests.__version__"
   ]
  },
  {
   "cell_type": "code",
   "execution_count": 110,
   "id": "98a19920",
   "metadata": {},
   "outputs": [],
   "source": [
    "# import API key\n",
    "\n",
    "from config import weather_api_key"
   ]
  },
  {
   "cell_type": "code",
   "execution_count": 111,
   "id": "d0748dad",
   "metadata": {},
   "outputs": [],
   "source": [
    "# Starting URL for Weather Map API Call.\n",
    "url = \"http://api.openweathermap.org/data/2.5/weather?units=Imperial&APPID=\" + weather_api_key\n"
   ]
  },
  {
   "cell_type": "code",
   "execution_count": 112,
   "id": "e7a422e5",
   "metadata": {},
   "outputs": [
    {
     "name": "stdout",
     "output_type": "stream",
     "text": [
      "http://api.openweathermap.org/data/2.5/weather?units=Imperial&APPID=d73f9b867860b56661afeb62565a45e0&q=Boston\n"
     ]
    }
   ],
   "source": [
    "# Create an endpoint URL for a city.\n",
    "\n",
    "city_url=url+\"&q=\"+\"Boston\"\n",
    "print(city_url)"
   ]
  },
  {
   "cell_type": "code",
   "execution_count": 113,
   "id": "1ca7ddfe",
   "metadata": {},
   "outputs": [],
   "source": [
    "url=\"http://api.openweathermap.org/data/2.5/weather?units=Imperial\"\n",
    "city=\"London\"\n",
    "query_url=url+\"&appid=\"+weather_api_key+\"&q=\"+city\n"
   ]
  },
  {
   "cell_type": "code",
   "execution_count": 114,
   "id": "2c3825ce",
   "metadata": {},
   "outputs": [],
   "source": [
    "weather_reponse=requests.get(query_url)\n",
    "weather_json=weather_reponse.json()"
   ]
  },
  {
   "cell_type": "code",
   "execution_count": 115,
   "id": "6b84c383",
   "metadata": {},
   "outputs": [
    {
     "data": {
      "text/plain": [
       "dict_keys(['coord', 'weather', 'base', 'main', 'visibility', 'wind', 'clouds', 'dt', 'sys', 'timezone', 'id', 'name', 'cod'])"
      ]
     },
     "execution_count": 115,
     "metadata": {},
     "output_type": "execute_result"
    }
   ],
   "source": [
    "weather_json.keys()"
   ]
  },
  {
   "cell_type": "code",
   "execution_count": 116,
   "id": "18075c0a",
   "metadata": {},
   "outputs": [
    {
     "data": {
      "text/plain": [
       "{'temp': 50.85,\n",
       " 'feels_like': 49.39,\n",
       " 'temp_min': 46.9,\n",
       " 'temp_max': 53.35,\n",
       " 'pressure': 1023,\n",
       " 'humidity': 80}"
      ]
     },
     "execution_count": 116,
     "metadata": {},
     "output_type": "execute_result"
    }
   ],
   "source": [
    "weather_json.get(\"main\")"
   ]
  },
  {
   "cell_type": "code",
   "execution_count": 117,
   "id": "7eaf7070",
   "metadata": {},
   "outputs": [
    {
     "name": "stdout",
     "output_type": "stream",
     "text": [
      "City found\n"
     ]
    }
   ],
   "source": [
    "# Make a 'Get' request for the city weather.\n",
    "city_weather = requests.get(city_url)\n",
    "# city_weather.json()\n",
    "\n",
    "if city_weather.status_code==200:\n",
    "    print(f\"City found\")\n",
    "    \n",
    "else:\n",
    "    print(f\"city not found\")"
   ]
  },
  {
   "cell_type": "code",
   "execution_count": 119,
   "id": "68026252",
   "metadata": {},
   "outputs": [
    {
     "data": {
      "text/plain": [
       "dict_keys(['coord', 'weather', 'base', 'main', 'visibility', 'wind', 'clouds', 'dt', 'sys', 'timezone', 'id', 'name', 'cod'])"
      ]
     },
     "execution_count": 119,
     "metadata": {},
     "output_type": "execute_result"
    }
   ],
   "source": [
    "boston_data=city_weather.json()\n",
    "boston_data.keys()\n"
   ]
  },
  {
   "cell_type": "code",
   "execution_count": 120,
   "id": "f6e94e39",
   "metadata": {},
   "outputs": [
    {
     "data": {
      "text/plain": [
       "{'type': 2,\n",
       " 'id': 2013408,\n",
       " 'country': 'US',\n",
       " 'sunrise': 1664966731,\n",
       " 'sunset': 1665008372}"
      ]
     },
     "execution_count": 120,
     "metadata": {},
     "output_type": "execute_result"
    }
   ],
   "source": [
    "boston_data[\"sys\"]"
   ]
  },
  {
   "cell_type": "code",
   "execution_count": 121,
   "id": "223b6dd3",
   "metadata": {},
   "outputs": [
    {
     "data": {
      "text/plain": [
       "'US'"
      ]
     },
     "execution_count": 121,
     "metadata": {},
     "output_type": "execute_result"
    }
   ],
   "source": [
    "boston_data[\"sys\"][\"country\"]"
   ]
  },
  {
   "cell_type": "code",
   "execution_count": 122,
   "id": "6cf38d65",
   "metadata": {},
   "outputs": [
    {
     "data": {
      "text/plain": [
       "42.3584"
      ]
     },
     "execution_count": 122,
     "metadata": {},
     "output_type": "execute_result"
    }
   ],
   "source": [
    "boston_data[\"coord\"][\"lat\"]"
   ]
  },
  {
   "cell_type": "code",
   "execution_count": 123,
   "id": "e9ee1e32",
   "metadata": {},
   "outputs": [
    {
     "data": {
      "text/plain": [
       "{'temp': 57.69,\n",
       " 'feels_like': 57.61,\n",
       " 'temp_min': 56.08,\n",
       " 'temp_max': 59.45,\n",
       " 'pressure': 1014,\n",
       " 'humidity': 95}"
      ]
     },
     "execution_count": 123,
     "metadata": {},
     "output_type": "execute_result"
    }
   ],
   "source": [
    "boston_data[\"main\"]"
   ]
  },
  {
   "cell_type": "code",
   "execution_count": 124,
   "id": "0932b4ef",
   "metadata": {},
   "outputs": [
    {
     "data": {
      "text/plain": [
       "1665016867"
      ]
     },
     "execution_count": 124,
     "metadata": {},
     "output_type": "execute_result"
    }
   ],
   "source": [
    "boston_data[\"dt\"]"
   ]
  },
  {
   "cell_type": "code",
   "execution_count": 125,
   "id": "d9afc826",
   "metadata": {},
   "outputs": [
    {
     "data": {
      "text/plain": [
       "'2022/10/06'"
      ]
     },
     "execution_count": 125,
     "metadata": {},
     "output_type": "execute_result"
    }
   ],
   "source": [
    "# Import the datetime module from the datetime library.\n",
    "from datetime import datetime\n",
    "# Get the date from the JSON file.\n",
    "date = boston_data[\"dt\"]\n",
    "# Convert the UTC date to a date format with year, month, day, hours, minutes, and seconds.\n",
    "datetime.utcfromtimestamp(date).strftime(\"%Y/%m/%d\")\n"
   ]
  },
  {
   "cell_type": "code",
   "execution_count": 126,
   "id": "5312d922",
   "metadata": {},
   "outputs": [
    {
     "data": {
      "text/plain": [
       "568"
      ]
     },
     "execution_count": 126,
     "metadata": {},
     "output_type": "execute_result"
    }
   ],
   "source": [
    "lats=np.random.uniform(low=-90.00,high=90,size=1300)\n",
    "longs=np.random.uniform(low=-180.000, high=180.000, size=1300)\n",
    "lats_longs=zip(lats, longs)\n",
    "lats_longs\n",
    "coordinates=list(lats_longs)\n",
    "for x in coordinates:\n",
    "    city=citipy.nearest_city(x[0],x[1]).city_name\n",
    "    country=citipy.nearest_city(x[0],x[1]).country_code\n",
    "cities =[]\n",
    "\n",
    "# Identify the nearest city for each latitude and longitude combination.\n",
    "\n",
    "for x in coordinates:\n",
    "    city=citipy.nearest_city(x[0],x[1]).city_name\n",
    " # If the city is unique, then we will add it to the cities list.\n",
    "    if city not in cities:\n",
    "        cities.append(city)\n",
    "# Print the city count to confirm sufficient count.\n",
    "len(cities)\n",
    "    "
   ]
  },
  {
   "cell_type": "code",
   "execution_count": 127,
   "id": "896c87eb",
   "metadata": {},
   "outputs": [
    {
     "name": "stdout",
     "output_type": "stream",
     "text": [
      "Beginning Data Retrieval     \n",
      "-----------------------------\n"
     ]
    }
   ],
   "source": [
    "import time\n",
    "\n",
    "from datetime import datetime\n",
    "\n",
    "# Create an empty list to hold the weather data.\n",
    "city_data = []\n",
    "# Print the beginning of the logging.\n",
    "print(\"Beginning Data Retrieval     \")\n",
    "print(\"-----------------------------\")\n",
    "\n",
    "# Create counters.\n",
    "record_count = 1\n",
    "set_count = 1\n"
   ]
  },
  {
   "cell_type": "code",
   "execution_count": 128,
   "id": "fc9ffbe8",
   "metadata": {},
   "outputs": [
    {
     "name": "stdout",
     "output_type": "stream",
     "text": [
      "Processing Record 1 of Set 1 | black river\n",
      "Processing Record 2 of Set 1 | bambous virieux\n",
      "Processing Record 3 of Set 1 | saint-augustin\n",
      "Processing Record 4 of Set 1 | longyearbyen\n",
      "Processing Record 5 of Set 1 | ilulissat\n",
      "Processing Record 6 of Set 1 | kaitangata\n",
      "Processing Record 7 of Set 1 | mahebourg\n",
      "Processing Record 8 of Set 1 | sao luiz gonzaga\n",
      "Processing Record 9 of Set 1 | punta arenas\n",
      "Processing Record 10 of Set 1 | sibolga\n",
      "Processing Record 11 of Set 1 | gold coast\n",
      "Processing Record 12 of Set 1 | chumikan\n",
      "Processing Record 13 of Set 1 | khonuu\n",
      "Processing Record 14 of Set 1 | ostrovnoy\n",
      "Processing Record 15 of Set 1 | albany\n",
      "Processing Record 16 of Set 1 | avera\n",
      "Processing Record 17 of Set 1 | san cristobal\n",
      "Processing Record 18 of Set 1 | butaritari\n",
      "Processing Record 19 of Set 1 | lebu\n",
      "Processing Record 20 of Set 1 | bredasdorp\n",
      "Processing Record 21 of Set 1 | avarua\n",
      "Processing Record 22 of Set 1 | dongkan\n",
      "Processing Record 23 of Set 1 | arcata\n",
      "Processing Record 24 of Set 1 | vaini\n",
      "Processing Record 25 of Set 1 | mataura\n",
      "Processing Record 26 of Set 1 | airai\n",
      "Processing Record 27 of Set 1 | busselton\n",
      "Processing Record 28 of Set 1 | qaqortoq\n",
      "Processing Record 29 of Set 1 | castro\n",
      "Processing Record 30 of Set 1 | atuona\n",
      "Processing Record 31 of Set 1 | illoqqortoormiut\n",
      "Processing Record 32 of Set 1 | cayenne\n",
      "Processing Record 33 of Set 1 | barentsburg\n",
      "Processing Record 34 of Set 1 | ushuaia\n",
      "Processing Record 35 of Set 1 | baruun-urt\n",
      "Processing Record 36 of Set 1 | carnarvon\n",
      "Processing Record 37 of Set 1 | tsihombe\n",
      "Processing Record 38 of Set 1 | chapais\n",
      "Processing Record 39 of Set 1 | rungata\n",
      "Processing Record 40 of Set 1 | mar del plata\n",
      "Processing Record 41 of Set 1 | maracaibo\n",
      "Processing Record 42 of Set 1 | deputatskiy\n",
      "Processing Record 43 of Set 1 | east london\n",
      "Processing Record 44 of Set 1 | norman wells\n",
      "Processing Record 45 of Set 1 | sungaipenuh\n",
      "Processing Record 46 of Set 1 | vila nova de milfontes\n",
      "Processing Record 47 of Set 1 | cape town\n",
      "Processing Record 48 of Set 1 | snezhnogorsk\n",
      "Processing Record 49 of Set 1 | nanortalik\n",
      "Processing Record 50 of Set 1 | jamestown\n",
      "Processing Record 1 of Set 2 | makakilo city\n",
      "Processing Record 2 of Set 2 | taolanaro\n",
      "Processing Record 3 of Set 2 | talnakh\n",
      "Processing Record 4 of Set 2 | agropoli\n",
      "Processing Record 5 of Set 2 | kieta\n",
      "Processing Record 6 of Set 2 | rikitea\n",
      "Processing Record 7 of Set 2 | corsicana\n",
      "Processing Record 8 of Set 2 | thompson\n",
      "Processing Record 9 of Set 2 | halalo\n",
      "Processing Record 10 of Set 2 | cherskiy\n",
      "Processing Record 11 of Set 2 | antofagasta\n",
      "Processing Record 12 of Set 2 | ahipara\n",
      "Processing Record 13 of Set 2 | bethel\n",
      "Processing Record 14 of Set 2 | cerritos\n",
      "Processing Record 15 of Set 2 | esna\n",
      "Processing Record 16 of Set 2 | burgeo\n",
      "Processing Record 17 of Set 2 | caravelas\n",
      "Processing Record 18 of Set 2 | hermanus\n",
      "Processing Record 19 of Set 2 | saskylakh\n",
      "Processing Record 20 of Set 2 | pevek\n",
      "Processing Record 21 of Set 2 | maine-soroa\n",
      "Processing Record 22 of Set 2 | kodiak\n",
      "Processing Record 23 of Set 2 | puerto madryn\n",
      "Processing Record 24 of Set 2 | mashhad\n",
      "Processing Record 25 of Set 2 | pocone\n",
      "Processing Record 26 of Set 2 | lucea\n",
      "Processing Record 27 of Set 2 | chimore\n",
      "Processing Record 28 of Set 2 | ruatoria\n",
      "Processing Record 29 of Set 2 | keuruu\n",
      "Processing Record 30 of Set 2 | amuntai\n",
      "Processing Record 31 of Set 2 | mehamn\n",
      "Processing Record 32 of Set 2 | hilo\n",
      "Processing Record 33 of Set 2 | nizhneyansk\n",
      "Processing Record 34 of Set 2 | magog\n",
      "Processing Record 35 of Set 2 | vila franca do campo\n",
      "Processing Record 36 of Set 2 | puerto ayora\n",
      "Processing Record 37 of Set 2 | worcester\n",
      "Processing Record 38 of Set 2 | vorobyevka\n",
      "Processing Record 39 of Set 2 | adre\n",
      "Processing Record 40 of Set 2 | virginia beach\n",
      "Processing Record 41 of Set 2 | saint-philippe\n",
      "Processing Record 42 of Set 2 | grindavik\n",
      "Processing Record 43 of Set 2 | samusu\n",
      "Processing Record 44 of Set 2 | lorengau\n",
      "Processing Record 45 of Set 2 | royan\n",
      "Processing Record 46 of Set 2 | saint george\n",
      "Processing Record 47 of Set 2 | balkanabat\n",
      "Processing Record 48 of Set 2 | hobart\n",
      "Processing Record 49 of Set 2 | kruisfontein\n",
      "Processing Record 50 of Set 2 | shingu\n",
      "Processing Record 1 of Set 3 | ancud\n",
      "Processing Record 2 of Set 3 | saint-georges\n",
      "Processing Record 3 of Set 3 | mys shmidta\n",
      "Processing Record 4 of Set 3 | yellowknife\n",
      "Processing Record 5 of Set 3 | port elizabeth\n",
      "Processing Record 6 of Set 3 | khani\n",
      "Processing Record 7 of Set 3 | richards bay\n",
      "Processing Record 8 of Set 3 | codrington\n",
      "Processing Record 9 of Set 3 | cabo san lucas\n",
      "Processing Record 10 of Set 3 | boralday\n",
      "Processing Record 11 of Set 3 | coihaique\n",
      "Processing Record 12 of Set 3 | faanui\n",
      "Processing Record 13 of Set 3 | tanggu\n",
      "Processing Record 14 of Set 3 | hvammstangi\n",
      "Processing Record 15 of Set 3 | hofn\n",
      "Processing Record 16 of Set 3 | sabha\n",
      "Processing Record 17 of Set 3 | asau\n",
      "Processing Record 18 of Set 3 | tezu\n",
      "Processing Record 19 of Set 3 | kendal\n",
      "Processing Record 20 of Set 3 | dingle\n",
      "Processing Record 21 of Set 3 | palu\n",
      "Processing Record 22 of Set 3 | nishihara\n",
      "Processing Record 23 of Set 3 | kaseda\n",
      "Processing Record 24 of Set 3 | severo-kurilsk\n",
      "Processing Record 25 of Set 3 | amderma\n",
      "Processing Record 26 of Set 3 | bondo\n",
      "Processing Record 27 of Set 3 | bluff\n",
      "Processing Record 28 of Set 3 | vanavara\n",
      "Processing Record 29 of Set 3 | constitucion\n",
      "Processing Record 30 of Set 3 | teluknaga\n",
      "Processing Record 31 of Set 3 | cerkezkoy\n",
      "Processing Record 32 of Set 3 | mbalmayo\n",
      "Processing Record 33 of Set 3 | ust-bolsheretsk\n",
      "Processing Record 34 of Set 3 | salalah\n",
      "Processing Record 35 of Set 3 | port alfred\n",
      "Processing Record 36 of Set 3 | nikolskoye\n",
      "Processing Record 37 of Set 3 | takanosu\n",
      "Processing Record 38 of Set 3 | urdzhar\n",
      "Processing Record 39 of Set 3 | hasaki\n",
      "Processing Record 40 of Set 3 | chokurdakh\n",
      "Processing Record 41 of Set 3 | naze\n",
      "Processing Record 42 of Set 3 | georgetown\n",
      "Processing Record 43 of Set 3 | dunedin\n",
      "Processing Record 44 of Set 3 | cidreira\n",
      "Processing Record 45 of Set 3 | tokat\n",
      "Processing Record 46 of Set 3 | narsaq\n",
      "Processing Record 47 of Set 3 | tilichiki\n",
      "Processing Record 48 of Set 3 | upernavik\n",
      "Processing Record 49 of Set 3 | okandja\n",
      "Processing Record 50 of Set 3 | haines junction\n",
      "Processing Record 1 of Set 4 | george\n",
      "Processing Record 2 of Set 4 | praia da vitoria\n",
      "Processing Record 3 of Set 4 | kahului\n",
      "Processing Record 4 of Set 4 | sulangan\n",
      "Processing Record 5 of Set 4 | chuhar kana\n",
      "Processing Record 6 of Set 4 | monze\n",
      "Processing Record 7 of Set 4 | dikson\n",
      "Processing Record 8 of Set 4 | tagusao\n",
      "Processing Record 9 of Set 4 | liverpool\n",
      "Processing Record 10 of Set 4 | adwa\n",
      "Processing Record 11 of Set 4 | soyo\n",
      "Processing Record 12 of Set 4 | grand-santi\n",
      "Processing Record 13 of Set 4 | sitka\n",
      "Processing Record 14 of Set 4 | kuito\n",
      "Processing Record 15 of Set 4 | san patricio\n",
      "Processing Record 16 of Set 4 | new norfolk\n",
      "Processing Record 17 of Set 4 | nouadhibou\n",
      "Processing Record 18 of Set 4 | ponta do sol\n",
      "Processing Record 19 of Set 4 | malwan\n",
      "Processing Record 20 of Set 4 | huilong\n",
      "Processing Record 21 of Set 4 | sataua\n",
      "Processing Record 22 of Set 4 | barawe\n",
      "Processing Record 23 of Set 4 | port blair\n",
      "Processing Record 24 of Set 4 | basco\n",
      "Processing Record 25 of Set 4 | buenos aires\n",
      "Processing Record 26 of Set 4 | los llanos de aridane\n",
      "Processing Record 27 of Set 4 | salmon creek\n",
      "Processing Record 28 of Set 4 | barrow\n",
      "Processing Record 29 of Set 4 | puerto el triunfo\n",
      "Processing Record 30 of Set 4 | zyryanka\n",
      "Processing Record 31 of Set 4 | torbay\n",
      "Processing Record 32 of Set 4 | hay river\n",
      "Processing Record 33 of Set 4 | saldanha\n",
      "Processing Record 34 of Set 4 | borgarnes\n",
      "Processing Record 35 of Set 4 | tuktoyaktuk\n",
      "Processing Record 36 of Set 4 | bonfim\n",
      "Processing Record 37 of Set 4 | bobo dioulasso\n",
      "Processing Record 38 of Set 4 | hailar\n",
      "Processing Record 39 of Set 4 | viedma\n",
      "Processing Record 40 of Set 4 | nicoya\n",
      "Processing Record 41 of Set 4 | kutum\n",
      "Processing Record 42 of Set 4 | gwadar\n",
      "Processing Record 43 of Set 4 | general roca\n",
      "Processing Record 44 of Set 4 | skiros\n",
      "Processing Record 45 of Set 4 | bathsheba\n",
      "Processing Record 46 of Set 4 | sao gabriel da cachoeira\n",
      "Processing Record 47 of Set 4 | guiratinga\n",
      "Processing Record 48 of Set 4 | gloucester\n",
      "Processing Record 49 of Set 4 | portland\n",
      "Processing Record 50 of Set 4 | arani\n"
     ]
    },
    {
     "name": "stdout",
     "output_type": "stream",
     "text": [
      "Processing Record 1 of Set 5 | ixtapa\n",
      "Processing Record 2 of Set 5 | waitati\n",
      "Processing Record 3 of Set 5 | tiksi\n",
      "Processing Record 4 of Set 5 | tsiroanomandidy\n",
      "Processing Record 5 of Set 5 | port hardy\n",
      "Processing Record 6 of Set 5 | isangel\n",
      "Processing Record 7 of Set 5 | skelleftea\n",
      "Processing Record 8 of Set 5 | yerbogachen\n",
      "Processing Record 9 of Set 5 | pisco\n",
      "Processing Record 10 of Set 5 | lavrentiya\n",
      "Processing Record 11 of Set 5 | marsh harbour\n",
      "Processing Record 12 of Set 5 | lenoir\n",
      "Processing Record 13 of Set 5 | tarabuco\n",
      "Processing Record 14 of Set 5 | cabedelo\n",
      "Processing Record 15 of Set 5 | grand river south east\n",
      "Processing Record 16 of Set 5 | nizhniy tsasuchey\n",
      "Processing Record 17 of Set 5 | omsukchan\n",
      "Processing Record 18 of Set 5 | kenai\n",
      "Processing Record 19 of Set 5 | formoso do araguaia\n",
      "Processing Record 20 of Set 5 | coquimbo\n",
      "Processing Record 21 of Set 5 | sakaiminato\n",
      "Processing Record 22 of Set 5 | lasa\n",
      "Processing Record 23 of Set 5 | ginda\n",
      "Processing Record 24 of Set 5 | belushya guba\n",
      "Processing Record 25 of Set 5 | bud\n",
      "Processing Record 26 of Set 5 | nome\n",
      "Processing Record 27 of Set 5 | villazon\n",
      "Processing Record 28 of Set 5 | eydhafushi\n",
      "Processing Record 29 of Set 5 | khasan\n",
      "Processing Record 30 of Set 5 | necochea\n",
      "Processing Record 31 of Set 5 | gulshat\n",
      "Processing Record 32 of Set 5 | florianopolis\n",
      "Processing Record 33 of Set 5 | paamiut\n",
      "Processing Record 34 of Set 5 | nantucket\n",
      "Processing Record 35 of Set 5 | sao joao da barra\n",
      "Processing Record 36 of Set 5 | namatanai\n",
      "Processing Record 37 of Set 5 | tarudant\n",
      "Processing Record 38 of Set 5 | tunxi\n",
      "Processing Record 39 of Set 5 | awbari\n",
      "Processing Record 40 of Set 5 | luau\n",
      "Processing Record 41 of Set 5 | qaanaaq\n",
      "Processing Record 42 of Set 5 | mersing\n",
      "Processing Record 43 of Set 5 | alamogordo\n",
      "Processing Record 44 of Set 5 | esperance\n",
      "Processing Record 45 of Set 5 | kuantan\n",
      "Processing Record 46 of Set 5 | pitimbu\n",
      "Processing Record 47 of Set 5 | asfi\n",
      "Processing Record 48 of Set 5 | khatanga\n",
      "Processing Record 49 of Set 5 | kungurtug\n",
      "Processing Record 50 of Set 5 | tasiilaq\n",
      "Processing Record 1 of Set 6 | sisimiut\n",
      "Processing Record 2 of Set 6 | hamilton\n",
      "Processing Record 3 of Set 6 | vila velha\n",
      "Processing Record 4 of Set 6 | kosonsoy\n",
      "Processing Record 5 of Set 6 | ivybridge\n",
      "Processing Record 6 of Set 6 | upata\n",
      "Processing Record 7 of Set 6 | rodrigues alves\n",
      "Processing Record 8 of Set 6 | hami\n",
      "Processing Record 9 of Set 6 | piopio\n",
      "Processing Record 10 of Set 6 | tonekabon\n",
      "Processing Record 11 of Set 6 | attawapiskat\n",
      "Processing Record 12 of Set 6 | bubaque\n",
      "Processing Record 13 of Set 6 | klaksvik\n",
      "Processing Record 14 of Set 6 | kharan\n",
      "Processing Record 15 of Set 6 | vaitupu\n",
      "Processing Record 16 of Set 6 | ambovombe\n",
      "Processing Record 17 of Set 6 | bandar-e torkaman\n",
      "Processing Record 18 of Set 6 | canutama\n",
      "Processing Record 19 of Set 6 | tambopata\n",
      "Processing Record 20 of Set 6 | hithadhoo\n",
      "Processing Record 21 of Set 6 | provideniya\n",
      "Processing Record 22 of Set 6 | kadykchan\n",
      "Processing Record 23 of Set 6 | santiago\n",
      "Processing Record 24 of Set 6 | teloloapan\n",
      "Processing Record 25 of Set 6 | wairoa\n",
      "Processing Record 26 of Set 6 | rudbar\n",
      "Processing Record 27 of Set 6 | alofi\n",
      "Processing Record 28 of Set 6 | trinidad\n",
      "Processing Record 29 of Set 6 | ucluelet\n",
      "Processing Record 30 of Set 6 | ribeira grande\n",
      "Processing Record 31 of Set 6 | phan thiet\n",
      "Processing Record 32 of Set 6 | itoman\n",
      "Processing Record 33 of Set 6 | batemans bay\n",
      "Processing Record 34 of Set 6 | olhao\n",
      "Processing Record 35 of Set 6 | karratha\n",
      "Processing Record 36 of Set 6 | namibe\n",
      "Processing Record 37 of Set 6 | souillac\n",
      "Processing Record 38 of Set 6 | grand gaube\n",
      "Processing Record 39 of Set 6 | mao\n",
      "Processing Record 40 of Set 6 | cape elizabeth\n",
      "Processing Record 41 of Set 6 | alihe\n",
      "Processing Record 42 of Set 6 | luderitz\n",
      "Processing Record 43 of Set 6 | velingrad\n",
      "Processing Record 44 of Set 6 | flinders\n",
      "Processing Record 45 of Set 6 | plattsburgh\n",
      "Processing Record 46 of Set 6 | guangzhou\n",
      "Processing Record 47 of Set 6 | umm lajj\n",
      "Processing Record 48 of Set 6 | limbang\n",
      "Processing Record 49 of Set 6 | macapa\n",
      "Processing Record 50 of Set 6 | salgado\n",
      "Processing Record 1 of Set 7 | aklavik\n",
      "Processing Record 2 of Set 7 | ardakan\n",
      "Processing Record 3 of Set 7 | san rafael del sur\n",
      "Processing Record 4 of Set 7 | kapaa\n",
      "Processing Record 5 of Set 7 | shahrud\n",
      "Processing Record 6 of Set 7 | dalupirip\n",
      "Processing Record 7 of Set 7 | iquitos\n",
      "Processing Record 8 of Set 7 | chuy\n",
      "Processing Record 9 of Set 7 | micheweni\n",
      "Processing Record 10 of Set 7 | itacoatiara\n",
      "Processing Record 11 of Set 7 | rocha\n",
      "Processing Record 12 of Set 7 | jurm\n",
      "Processing Record 13 of Set 7 | lolua\n",
      "Processing Record 14 of Set 7 | luziania\n",
      "Processing Record 15 of Set 7 | chase\n",
      "Processing Record 16 of Set 7 | somerset west\n",
      "Processing Record 17 of Set 7 | arraial do cabo\n",
      "Processing Record 18 of Set 7 | putina\n",
      "Processing Record 19 of Set 7 | bongandanga\n",
      "Processing Record 20 of Set 7 | eureka\n",
      "Processing Record 21 of Set 7 | tyumentsevo\n",
      "Processing Record 22 of Set 7 | pajarito\n",
      "Processing Record 23 of Set 7 | kolondieba\n",
      "Processing Record 24 of Set 7 | college\n",
      "Processing Record 25 of Set 7 | mudgee\n",
      "Processing Record 26 of Set 7 | kavieng\n",
      "Processing Record 27 of Set 7 | ashland\n",
      "Processing Record 28 of Set 7 | lufilufi\n",
      "Processing Record 29 of Set 7 | timmins\n",
      "Processing Record 30 of Set 7 | saint marys\n",
      "Processing Record 31 of Set 7 | kysyl-syr\n",
      "Processing Record 32 of Set 7 | skibbereen\n",
      "Processing Record 33 of Set 7 | aruppukkottai\n",
      "Processing Record 34 of Set 7 | gerash\n",
      "Processing Record 35 of Set 7 | jiaojiang\n",
      "Processing Record 36 of Set 7 | assiniboia\n",
      "Processing Record 37 of Set 7 | baturaja\n",
      "Processing Record 38 of Set 7 | kamenskoye\n",
      "Processing Record 39 of Set 7 | peleduy\n",
      "Processing Record 40 of Set 7 | lompoc\n",
      "Processing Record 41 of Set 7 | santa isabel do rio negro\n",
      "Processing Record 42 of Set 7 | holetown\n",
      "Processing Record 43 of Set 7 | havelock\n",
      "Processing Record 44 of Set 7 | athni\n",
      "Processing Record 45 of Set 7 | filadelfia\n",
      "Processing Record 46 of Set 7 | glace bay\n",
      "Processing Record 47 of Set 7 | whitecourt\n",
      "Processing Record 48 of Set 7 | bystryy istok\n",
      "Processing Record 49 of Set 7 | santa isabel\n",
      "Processing Record 50 of Set 7 | miranorte\n",
      "Processing Record 1 of Set 8 | victoria\n",
      "Processing Record 2 of Set 8 | talara\n",
      "Processing Record 3 of Set 8 | elko\n",
      "Processing Record 4 of Set 8 | lagoa\n",
      "Processing Record 5 of Set 8 | syracuse\n",
      "Processing Record 6 of Set 8 | tuy hoa\n",
      "Processing Record 7 of Set 8 | margate\n",
      "Processing Record 8 of Set 8 | kalmunai\n",
      "Processing Record 9 of Set 8 | nemuro\n",
      "Processing Record 10 of Set 8 | marion\n",
      "Processing Record 11 of Set 8 | satipo\n",
      "Processing Record 12 of Set 8 | oruro\n",
      "Processing Record 13 of Set 8 | kiama\n",
      "Processing Record 14 of Set 8 | saleaula\n",
      "Processing Record 15 of Set 8 | togur\n",
      "Processing Record 16 of Set 8 | hihifo\n",
      "Processing Record 17 of Set 8 | jalu\n",
      "Processing Record 18 of Set 8 | mastic beach\n",
      "Processing Record 19 of Set 8 | shimoda\n",
      "Processing Record 20 of Set 8 | barguzin\n",
      "Processing Record 21 of Set 8 | noumea\n",
      "Processing Record 22 of Set 8 | dharmadam\n",
      "Processing Record 23 of Set 8 | maniitsoq\n",
      "Processing Record 24 of Set 8 | plastun\n",
      "Processing Record 25 of Set 8 | panaba\n",
      "Processing Record 26 of Set 8 | caraballeda\n",
      "Processing Record 27 of Set 8 | sao filipe\n",
      "Processing Record 28 of Set 8 | labuhan\n",
      "Processing Record 29 of Set 8 | warqla\n",
      "Processing Record 30 of Set 8 | chernyshevskiy\n",
      "Processing Record 31 of Set 8 | gainesville\n",
      "Processing Record 32 of Set 8 | ouro fino\n",
      "Processing Record 33 of Set 8 | boca do acre\n",
      "Processing Record 34 of Set 8 | tuatapere\n",
      "Processing Record 35 of Set 8 | turayf\n",
      "Processing Record 36 of Set 8 | daru\n",
      "Processing Record 37 of Set 8 | komsomolskiy\n",
      "Processing Record 38 of Set 8 | luang prabang\n",
      "Processing Record 39 of Set 8 | san policarpo\n",
      "Processing Record 40 of Set 8 | srednekolymsk\n",
      "Processing Record 41 of Set 8 | sur\n",
      "Processing Record 42 of Set 8 | kenora\n",
      "Processing Record 43 of Set 8 | kisangani\n",
      "Processing Record 44 of Set 8 | alta floresta\n",
      "Processing Record 45 of Set 8 | westport\n",
      "Processing Record 46 of Set 8 | zhanakorgan\n",
      "Processing Record 47 of Set 8 | smithers\n",
      "Processing Record 48 of Set 8 | one hundred mile house\n",
      "Processing Record 49 of Set 8 | slave lake\n",
      "Processing Record 50 of Set 8 | freeport\n"
     ]
    },
    {
     "name": "stdout",
     "output_type": "stream",
     "text": [
      "Processing Record 1 of Set 9 | nalut\n",
      "Processing Record 2 of Set 9 | lata\n",
      "Processing Record 3 of Set 9 | bengkulu\n",
      "Processing Record 4 of Set 9 | churu\n",
      "Processing Record 5 of Set 9 | lichuan\n",
      "Processing Record 6 of Set 9 | touros\n",
      "Processing Record 7 of Set 9 | clarence town\n",
      "Processing Record 8 of Set 9 | shaunavon\n",
      "Processing Record 9 of Set 9 | mae tha\n",
      "Processing Record 10 of Set 9 | methoni\n",
      "Processing Record 11 of Set 9 | half moon bay\n",
      "Processing Record 12 of Set 9 | san quintin\n",
      "Processing Record 13 of Set 9 | kamaishi\n",
      "Processing Record 14 of Set 9 | mecca\n",
      "Processing Record 15 of Set 9 | kasongo-lunda\n",
      "Processing Record 16 of Set 9 | sorvag\n",
      "Processing Record 17 of Set 9 | puerto escondido\n",
      "Processing Record 18 of Set 9 | newport\n",
      "Processing Record 19 of Set 9 | tombouctou\n",
      "Processing Record 20 of Set 9 | burica\n",
      "Processing Record 21 of Set 9 | kemijarvi\n",
      "Processing Record 22 of Set 9 | raudeberg\n",
      "Processing Record 23 of Set 9 | afua\n",
      "Processing Record 24 of Set 9 | ziro\n",
      "Processing Record 25 of Set 9 | furth im wald\n",
      "Processing Record 26 of Set 9 | siva\n",
      "Processing Record 27 of Set 9 | rio gallegos\n",
      "Processing Record 28 of Set 9 | hualmay\n",
      "Processing Record 29 of Set 9 | quibdo\n",
      "Processing Record 30 of Set 9 | soe\n",
      "Processing Record 31 of Set 9 | sentyabrskiy\n",
      "Processing Record 32 of Set 9 | caucasia\n",
      "Processing Record 33 of Set 9 | scottsbluff\n",
      "Processing Record 34 of Set 9 | ust-kuyga\n",
      "Processing Record 35 of Set 9 | nelson bay\n",
      "Processing Record 36 of Set 9 | marsa matruh\n",
      "Processing Record 37 of Set 9 | port augusta\n",
      "Processing Record 38 of Set 9 | beyneu\n",
      "Processing Record 39 of Set 9 | biak\n",
      "Processing Record 40 of Set 9 | chaozhou\n",
      "Processing Record 41 of Set 9 | pombia\n",
      "Processing Record 42 of Set 9 | adrar\n",
      "Processing Record 43 of Set 9 | ashqelon\n",
      "Processing Record 44 of Set 9 | chilmari\n",
      "Processing Record 45 of Set 9 | iqaluit\n",
      "Processing Record 46 of Set 9 | mocuba\n",
      "Processing Record 47 of Set 9 | spornoye\n",
      "Processing Record 48 of Set 9 | rodeo\n",
      "Processing Record 49 of Set 9 | aksu\n",
      "Processing Record 50 of Set 9 | nola\n",
      "Processing Record 1 of Set 10 | sandwick\n",
      "Processing Record 2 of Set 10 | sorong\n",
      "Processing Record 3 of Set 10 | winchester\n",
      "Processing Record 4 of Set 10 | tucano\n",
      "Processing Record 5 of Set 10 | krasnoselkup\n",
      "Processing Record 6 of Set 10 | seddon\n",
      "Processing Record 7 of Set 10 | yuli\n",
      "Processing Record 8 of Set 10 | uruzgan\n",
      "Processing Record 9 of Set 10 | tecolutilla\n",
      "Processing Record 10 of Set 10 | ambilobe\n",
      "Processing Record 11 of Set 10 | kihei\n",
      "Processing Record 12 of Set 10 | clyde river\n",
      "Processing Record 13 of Set 10 | dhidhdhoo\n",
      "Processing Record 14 of Set 10 | aguada de pasajeros\n",
      "Processing Record 15 of Set 10 | koslan\n",
      "Processing Record 16 of Set 10 | umm kaddadah\n",
      "Processing Record 17 of Set 10 | safaga\n",
      "Processing Record 18 of Set 10 | tevaitoa\n",
      "Processing Record 19 of Set 10 | husavik\n",
      "Processing Record 20 of Set 10 | prisacani\n",
      "Processing Record 21 of Set 10 | durango\n",
      "Processing Record 22 of Set 10 | cockburn town\n",
      "Processing Record 23 of Set 10 | todos santos\n",
      "Processing Record 24 of Set 10 | kattivakkam\n",
      "Processing Record 25 of Set 10 | araguaina\n",
      "Processing Record 26 of Set 10 | labutta\n",
      "Processing Record 27 of Set 10 | matara\n",
      "Processing Record 28 of Set 10 | jumla\n",
      "Processing Record 29 of Set 10 | tucuma\n",
      "Processing Record 30 of Set 10 | mhlambanyatsi\n",
      "Processing Record 31 of Set 10 | roma\n",
      "Processing Record 32 of Set 10 | vanimo\n",
      "Processing Record 33 of Set 10 | sidi ali\n",
      "Processing Record 34 of Set 10 | asmar\n",
      "Processing Record 35 of Set 10 | samarai\n",
      "Processing Record 36 of Set 10 | neiafu\n",
      "Processing Record 37 of Set 10 | maragogi\n",
      "Processing Record 38 of Set 10 | redmond\n",
      "Processing Record 39 of Set 10 | ovsyanka\n",
      "Processing Record 40 of Set 10 | quatre cocos\n",
      "Processing Record 41 of Set 10 | fortuna\n",
      "Processing Record 42 of Set 10 | hazorasp\n",
      "Processing Record 43 of Set 10 | amahai\n",
      "Processing Record 44 of Set 10 | vestmannaeyjar\n",
      "Processing Record 45 of Set 10 | skovorodino\n",
      "Processing Record 46 of Set 10 | albanel\n",
      "Processing Record 47 of Set 10 | tahe\n",
      "Processing Record 48 of Set 10 | colac\n",
      "Processing Record 49 of Set 10 | kazalinsk\n",
      "Processing Record 50 of Set 10 | toliary\n",
      "Processing Record 1 of Set 11 | goryachegorsk\n",
      "Processing Record 2 of Set 11 | bayir\n",
      "Processing Record 3 of Set 11 | cap malheureux\n",
      "Processing Record 4 of Set 11 | egvekinot\n",
      "Processing Record 5 of Set 11 | esso\n",
      "Processing Record 6 of Set 11 | visnes\n",
      "Processing Record 7 of Set 11 | geraldton\n",
      "Processing Record 8 of Set 11 | yoichi\n",
      "Processing Record 9 of Set 11 | evensk\n",
      "Processing Record 10 of Set 11 | ijaki\n",
      "Processing Record 11 of Set 11 | peniche\n",
      "Processing Record 12 of Set 11 | myitkyina\n",
      "Processing Record 13 of Set 11 | zhuhai\n",
      "Processing Record 14 of Set 11 | ngukurr\n",
      "Processing Record 15 of Set 11 | beeville\n",
      "Processing Record 16 of Set 11 | agadez\n",
      "Processing Record 17 of Set 11 | gilleleje\n",
      "Processing Record 18 of Set 11 | malakisi\n",
      "Processing Record 19 of Set 11 | ponta delgada\n",
      "Processing Record 20 of Set 11 | binangonan\n",
      "Processing Record 21 of Set 11 | kropotkin\n",
      "Processing Record 22 of Set 11 | aguimes\n",
      "Processing Record 23 of Set 11 | san lucas\n",
      "Processing Record 24 of Set 11 | uglegorskiy\n",
      "Processing Record 25 of Set 11 | vaitape\n",
      "Processing Record 26 of Set 11 | taoudenni\n",
      "Processing Record 27 of Set 11 | wajima\n",
      "Processing Record 28 of Set 11 | saint-pierre\n",
      "Processing Record 29 of Set 11 | tapaua\n",
      "Processing Record 30 of Set 11 | acuna\n",
      "Processing Record 31 of Set 11 | jomalig\n",
      "Processing Record 32 of Set 11 | whitehorse\n",
      "Processing Record 33 of Set 11 | registro\n",
      "Processing Record 34 of Set 11 | high prairie\n",
      "Processing Record 35 of Set 11 | leningradskiy\n",
      "Processing Record 36 of Set 11 | northam\n",
      "Processing Record 37 of Set 11 | sivas\n",
      "Processing Record 38 of Set 11 | pangnirtung\n",
      "Processing Record 39 of Set 11 | dryden\n",
      "Processing Record 40 of Set 11 | mantua\n",
      "Processing Record 41 of Set 11 | tonj\n",
      "Processing Record 42 of Set 11 | miracatu\n",
      "Processing Record 43 of Set 11 | san francisco\n",
      "Processing Record 44 of Set 11 | san vicente\n",
      "Processing Record 45 of Set 11 | abu kamal\n",
      "Processing Record 46 of Set 11 | henties bay\n",
      "Processing Record 47 of Set 11 | puerto barrios\n",
      "Processing Record 48 of Set 11 | elat\n",
      "Processing Record 49 of Set 11 | tungor\n",
      "Processing Record 50 of Set 11 | aksarka\n",
      "Processing Record 1 of Set 12 | gizo\n",
      "Processing Record 2 of Set 12 | shenjiamen\n",
      "Processing Record 3 of Set 12 | verkhnevilyuysk\n",
      "Processing Record 4 of Set 12 | isla mujeres\n",
      "Processing Record 5 of Set 12 | gogrial\n",
      "Processing Record 6 of Set 12 | jiroft\n",
      "Processing Record 7 of Set 12 | davila\n",
      "Processing Record 8 of Set 12 | mountain home\n",
      "Processing Record 9 of Set 12 | comodoro rivadavia\n",
      "Processing Record 10 of Set 12 | pimentel\n",
      "Processing Record 11 of Set 12 | beboto\n",
      "Processing Record 12 of Set 12 | togitsu\n",
      "Processing Record 13 of Set 12 | kuytun\n",
      "Processing Record 14 of Set 12 | rewa\n",
      "Processing Record 15 of Set 12 | puerto baquerizo moreno\n",
      "Processing Record 16 of Set 12 | malaya serdoba\n",
      "Processing Record 17 of Set 12 | paraiso\n",
      "Processing Record 18 of Set 12 | ottawa\n"
     ]
    }
   ],
   "source": [
    "for i, city in enumerate(cities):\n",
    "\n",
    "    # Group cities in sets of 50 for logging purposes.\n",
    "    if (i % 50 == 0 and i >= 50):\n",
    "        set_count += 1\n",
    "        record_count = 1\n",
    "        time.sleep(60)\n",
    "\n",
    "    # Create endpoint URL with each city.\n",
    "    city_url = url + \"&q=\" + city.replace(\" \",\"+\")\n",
    "\n",
    "    # Log the URL, record, and set numbers and the city.\n",
    "    print(f\"Processing Record {record_count} of Set {set_count} | {city}\")\n",
    "    # Add 1 to the record count.\n",
    "    record_count += 1"
   ]
  },
  {
   "cell_type": "code",
   "execution_count": 130,
   "id": "2cc11013",
   "metadata": {},
   "outputs": [
    {
     "name": "stdout",
     "output_type": "stream",
     "text": [
      "City not found. Skipping...\n",
      "-----------------------------\n",
      "Data Retrieval Complete      \n",
      "-----------------------------\n"
     ]
    },
    {
     "data": {
      "text/plain": [
       "[]"
      ]
     },
     "execution_count": 130,
     "metadata": {},
     "output_type": "execute_result"
    }
   ],
   "source": [
    "# Run an API request for each of the cities.\n",
    "try: \n",
    "        # Parse the JSON and retrieve data.\n",
    "    city_weather = requests.get(city_url).json()\n",
    "        # Parse out the needed data.\n",
    "    city_lat = city_weather[\"coord\"][\"lat\"]\n",
    "    city_lng = city_weather[\"coord\"][\"lon\"]\n",
    "    city_max_temp = city_weather[\"main\"][\"temp_max\"]\n",
    "    city_humidity = city_weather[\"main\"][\"humidity\"]\n",
    "    city_clouds = city_weather[\"clouds\"][\"all\"]\n",
    "    city_wind = city_weather[\"wind\"][\"speed\"]\n",
    "    city_country = city_weather[\"sys\"][\"country\"]\n",
    "        # Convert the date to ISO standard.\n",
    "    city_date = datetime.utcfromtimestamp(city_weather[\"dt\"]).strftime('%Y-%m-%d %H:%M:%S')\n",
    "        # Append the city information into city_data list.\n",
    "    city_data.append({\"City\": city.title(),\n",
    "                          \"Lat\": city_lat,\n",
    "                          \"Lng\": city_lng,\n",
    "                          \"Max Temp\": city_max_temp,\n",
    "                          \"Humidity\": city_humidity,\n",
    "                          \"Cloudiness\": city_clouds,\n",
    "                          \"Wind Speed\": city_wind,\n",
    "                          \"Country\": city_country,\n",
    "                         \"Date\": city_date})\n",
    "except:\n",
    "        print(\"City not found. Skipping...\")\n",
    "        pass\n",
    "\n",
    "# Indicate that Data Loading is complete.\n",
    "print(\"-----------------------------\")\n",
    "print(\"Data Retrieval Complete      \")\n",
    "print(\"-----------------------------\")\n",
    "city_data"
   ]
  },
  {
   "cell_type": "code",
   "execution_count": null,
   "id": "1528f11b",
   "metadata": {},
   "outputs": [],
   "source": []
  }
 ],
 "metadata": {
  "kernelspec": {
   "display_name": "PyhtonData",
   "language": "python",
   "name": "pyhtondata"
  },
  "language_info": {
   "codemirror_mode": {
    "name": "ipython",
    "version": 3
   },
   "file_extension": ".py",
   "mimetype": "text/x-python",
   "name": "python",
   "nbconvert_exporter": "python",
   "pygments_lexer": "ipython3",
   "version": "3.7.13"
  }
 },
 "nbformat": 4,
 "nbformat_minor": 5
}
