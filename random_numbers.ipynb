{
 "cells": [
  {
   "cell_type": "code",
   "execution_count": 3,
   "id": "73d6ee25",
   "metadata": {},
   "outputs": [],
   "source": [
    "import random"
   ]
  },
  {
   "cell_type": "code",
   "execution_count": 5,
   "id": "ba28ca21",
   "metadata": {},
   "outputs": [
    {
     "data": {
      "text/plain": [
       "0.2475341174928546"
      ]
     },
     "execution_count": 5,
     "metadata": {},
     "output_type": "execute_result"
    }
   ],
   "source": [
    "random.random()"
   ]
  },
  {
   "cell_type": "code",
   "execution_count": 14,
   "id": "bf364303",
   "metadata": {},
   "outputs": [
    {
     "data": {
      "text/plain": [
       "-6"
      ]
     },
     "execution_count": 14,
     "metadata": {},
     "output_type": "execute_result"
    }
   ],
   "source": [
    "random.randint(-10,2)"
   ]
  },
  {
   "cell_type": "code",
   "execution_count": 28,
   "id": "82ab13d1",
   "metadata": {},
   "outputs": [
    {
     "data": {
      "text/plain": [
       "3"
      ]
     },
     "execution_count": 28,
     "metadata": {},
     "output_type": "execute_result"
    }
   ],
   "source": [
    "random.randrange(-10,10, step=1)"
   ]
  },
  {
   "cell_type": "code",
   "execution_count": 32,
   "id": "f42e4e60",
   "metadata": {},
   "outputs": [
    {
     "data": {
      "text/plain": [
       "22.05515465417085"
      ]
     },
     "execution_count": 32,
     "metadata": {},
     "output_type": "execute_result"
    }
   ],
   "source": [
    "random.uniform(-90,90)"
   ]
  },
  {
   "cell_type": "code",
   "execution_count": 48,
   "id": "85b8ad01",
   "metadata": {},
   "outputs": [
    {
     "data": {
      "text/plain": [
       "[-80.62914789149046,\n",
       " -25.54169389683944,\n",
       " 69.06523844848797,\n",
       " 23.26302160934187,\n",
       " 75.16301288706072,\n",
       " 19.74379637639905,\n",
       " -15.101910468159945,\n",
       " 1.40815653111228,\n",
       " -38.085174545755905,\n",
       " -32.7290423617146]"
      ]
     },
     "execution_count": 48,
     "metadata": {},
     "output_type": "execute_result"
    }
   ],
   "source": [
    "# Code to generate the random latitudes\n",
    "\n",
    "x=1\n",
    "\n",
    "latitudes =[]\n",
    "\n",
    "while x<11:\n",
    "    rand_lat=random.randint(-90,89)+random.random()\n",
    "    latitudes.append(rand_lat)\n",
    "    x=x+1\n",
    "    \n",
    "latitudes\n",
    "#print(f\"{latitudes},\\n\")\n"
   ]
  },
  {
   "cell_type": "code",
   "execution_count": 52,
   "id": "e9e05dd8",
   "metadata": {},
   "outputs": [
    {
     "data": {
      "text/plain": [
       "array([-49.90949289, -87.32819933,  86.53359206,  22.80828169,\n",
       "       -34.29629809, -23.55598451, -79.8217405 , -61.84772828,\n",
       "        27.37540329,  53.40017404, -55.60256173,  45.33501959,\n",
       "       -68.75033276,  89.02720301, -84.67049288,  16.78785598,\n",
       "        80.38867293,  68.30721541, -26.16666377,  84.29789265,\n",
       "        83.35797789, -21.17418388,  -2.19574719, -18.30351564,\n",
       "       -55.81314284,  78.31450356,  49.86458709,  38.89151237,\n",
       "        29.82713651,  34.30495237,  44.62075578,  42.31166955,\n",
       "        17.62202479,  -5.64115179, -50.19257517, -59.61872585,\n",
       "       -44.03720021, -11.07742771,   6.63075877,  -9.35365475,\n",
       "       -39.89411865, -85.34837291, -39.28146449,  40.05438941,\n",
       "       -82.49047564,  52.78923418, -33.72278223,   0.1068657 ,\n",
       "         5.01004852,  64.13622695])"
      ]
     },
     "execution_count": 52,
     "metadata": {},
     "output_type": "execute_result"
    }
   ],
   "source": [
    "import numpy as np\n",
    "np.random.uniform(-90,90, size=50)"
   ]
  },
  {
   "cell_type": "code",
   "execution_count": 57,
   "id": "450bd86c",
   "metadata": {},
   "outputs": [
    {
     "name": "stdout",
     "output_type": "stream",
     "text": [
      "51.3 µs ± 830 ns per loop (mean ± std. dev. of 7 runs, 10000 loops each)\n"
     ]
    }
   ],
   "source": [
    "# To test how long code runs using a loop and using numpy module\n",
    "\n",
    "import timeit \n",
    "\n",
    "%timeit np.random.uniform(-90.000, 90.000, size=1500)"
   ]
  },
  {
   "cell_type": "code",
   "execution_count": 58,
   "id": "6dbc5bf6",
   "metadata": {},
   "outputs": [
    {
     "name": "stdout",
     "output_type": "stream",
     "text": [
      "5.99 ms ± 163 µs per loop (mean ± std. dev. of 7 runs, 100 loops each)\n"
     ]
    }
   ],
   "source": [
    "def latitudes(size):\n",
    "    latitudes = []\n",
    "    x = 0\n",
    "    while x < (size):\n",
    "        random_lat = random.randint(-90, 90) + random.random()\n",
    "        latitudes.append(random_lat)\n",
    "        x += 1\n",
    "    return latitudes\n",
    "# Call the function with 1500.\n",
    "%timeit latitudes(1500)"
   ]
  }
 ],
 "metadata": {
  "kernelspec": {
   "display_name": "PyhtonData",
   "language": "python",
   "name": "pyhtondata"
  },
  "language_info": {
   "codemirror_mode": {
    "name": "ipython",
    "version": 3
   },
   "file_extension": ".py",
   "mimetype": "text/x-python",
   "name": "python",
   "nbconvert_exporter": "python",
   "pygments_lexer": "ipython3",
   "version": "3.7.13"
  }
 },
 "nbformat": 4,
 "nbformat_minor": 5
}
